{
 "cells": [
  {
   "cell_type": "code",
   "execution_count": 2,
   "metadata": {},
   "outputs": [
    {
     "name": "stdout",
     "output_type": "stream",
     "text": [
      "Prince likes python\n",
      "Princelikes python\n"
     ]
    }
   ],
   "source": [
    "name = \"Prince\"\n",
    "print(f'{name} likes python') #formatted str\n",
    "print(name + \" likes python\") #concatenation"
   ]
  },
  {
   "cell_type": "code",
   "execution_count": 14,
   "metadata": {},
   "outputs": [
    {
     "name": "stdout",
     "output_type": "stream",
     "text": [
      "You are 22\n"
     ]
    }
   ],
   "source": [
    "from datetime import *\n",
    "year = int(input(\"Enter Year\"))\n",
    "print(f'You are {date.today().year - year}')"
   ]
  },
  {
   "cell_type": "code",
   "execution_count": 17,
   "metadata": {},
   "outputs": [
    {
     "name": "stdout",
     "output_type": "stream",
     "text": [
      "Hi Prince\n",
      "Enjoys Python!\n"
     ]
    }
   ],
   "source": [
    "print(f'Hi { input(\"Enter name\") }\\nEnjoys Python!')"
   ]
  },
  {
   "cell_type": "code",
   "execution_count": 20,
   "metadata": {},
   "outputs": [
    {
     "name": "stdout",
     "output_type": "stream",
     "text": [
      "hot coffee needed!\n"
     ]
    }
   ],
   "source": [
    "if(int(input(\"Enter the current temperature\")) > 30 ):\n",
    "    print(\"Cold coffee needed!\")\n",
    "else:\n",
    "    print(\"hot coffee needed!\")"
   ]
  },
  {
   "cell_type": "code",
   "execution_count": 21,
   "metadata": {},
   "outputs": [
    {
     "name": "stdout",
     "output_type": "stream",
     "text": [
      "You can't drive\n"
     ]
    }
   ],
   "source": [
    "if(int(input(\"Enter your age\")) >= 18):\n",
    "    print(\"You can drive\")\n",
    "else:\n",
    "    print(\"You can't drive\")"
   ]
  },
  {
   "cell_type": "code",
   "execution_count": 34,
   "metadata": {},
   "outputs": [
    {
     "name": "stdout",
     "output_type": "stream",
     "text": [
      "e\n",
      "Prince is not a pallindrome\n"
     ]
    }
   ],
   "source": [
    "name = input(\"Enter your name\")\n",
    "if name == name[::-1] :\n",
    "    print(f'{name} is a pallindrome')\n",
    "else:\n",
    "    print(f'{name} is not a pallindrome')"
   ]
  },
  {
   "cell_type": "code",
   "execution_count": 1,
   "metadata": {},
   "outputs": [
    {
     "name": "stdout",
     "output_type": "stream",
     "text": [
      "ecn\n"
     ]
    }
   ],
   "source": [
    "name = input(\"Enter your name\")\n",
    "print(name[:len(name)-4:-1])"
   ]
  },
  {
   "cell_type": "code",
   "execution_count": 8,
   "metadata": {},
   "outputs": [
    {
     "name": "stdout",
     "output_type": "stream",
     "text": [
      "[1, 2, 3, 4, 5]\n"
     ]
    }
   ],
   "source": [
    "a = []\n",
    "i = 0\n",
    "while(i < 5):\n",
    "    a.append(int(input(\"Enter element\")))\n",
    "    i+=1\n",
    "i = 0\n",
    "print(a[::])"
   ]
  },
  {
   "cell_type": "code",
   "execution_count": 11,
   "metadata": {},
   "outputs": [
    {
     "name": "stdout",
     "output_type": "stream",
     "text": [
      "i e i u "
     ]
    }
   ],
   "source": [
    "for char in input(\"Enter a string\"):\n",
    "    if char in \"aeiouAEIOU\":\n",
    "        print(char, end=' ')"
   ]
  },
  {
   "cell_type": "code",
   "execution_count": 15,
   "metadata": {},
   "outputs": [
    {
     "name": "stdout",
     "output_type": "stream",
     "text": [
      "p r i i n c e e "
     ]
    }
   ],
   "source": [
    "ch = input(\"Enter a string\")\n",
    "if len(ch) > 10:\n",
    "    print(ch[::-1])\n",
    "else:\n",
    "    for char in ch:\n",
    "        if char in \"aeiouAEIOU\":\n",
    "            print(char, end=' ')\n",
    "        print(char, end = \" \")"
   ]
  },
  {
   "cell_type": "code",
   "execution_count": 17,
   "metadata": {},
   "outputs": [
    {
     "name": "stdout",
     "output_type": "stream",
     "text": [
      "[1, 2, 3]\n",
      "[1, 2, 3]\n"
     ]
    }
   ],
   "source": [
    "list=[]\n",
    "list_original=[]\n",
    "num=int(input(\"How many elements you need\"))\n",
    "for i in range(num):\n",
    "    ele=int(input(\"Enter the elements\"))\n",
    "    list.append(ele)\n",
    "print(list)\n",
    "for j in list:\n",
    "    if j not in list_original:\n",
    "        list_original.append(j)\n",
    "print(list_original)"
   ]
  },
  {
   "cell_type": "code",
   "execution_count": 10,
   "metadata": {},
   "outputs": [
    {
     "name": "stdout",
     "output_type": "stream",
     "text": [
      "[1, 2, 3, 4, 5]\n",
      "1, 4, 6, 16, 120, "
     ]
    }
   ],
   "source": [
    "lis = list(map(int,input().split()))\n",
    "print(lis)\n",
    "for i in lis:\n",
    "    if i%2==0:\n",
    "        print(pow(i,2),end=\", \")\n",
    "    else:\n",
    "        j = i\n",
    "        fac = 1\n",
    "        while (j>0):\n",
    "            fac*=j\n",
    "            j-=1\n",
    "        print(fac,end=\", \")"
   ]
  },
  {
   "cell_type": "code",
   "execution_count": 12,
   "metadata": {},
   "outputs": [
    {
     "name": "stdout",
     "output_type": "stream",
     "text": [
      "France\n"
     ]
    }
   ],
   "source": [
    "import string\n",
    "alphabet = set(string.ascii_lowercase)\n",
    "input_string=input()\n",
    "if (set(input_string.lower())>= alphabet):\n",
    "    print(\"France\")\n",
    "else:\n",
    "    print(\"Italy\")"
   ]
  },
  {
   "cell_type": "code",
   "execution_count": 7,
   "metadata": {},
   "outputs": [
    {
     "name": "stdout",
     "output_type": "stream",
     "text": [
      "{1, 2, 3, 4, 5, 6}\n"
     ]
    }
   ],
   "source": [
    "set1 = {1,2,3,4,5,5,6}\n",
    "set2 = {2,3,4,5,6}\n",
    "print(set1.union(set2))"
   ]
  },
  {
   "cell_type": "code",
   "execution_count": 12,
   "metadata": {},
   "outputs": [
    {
     "name": "stdout",
     "output_type": "stream",
     "text": [
      "Apple\n"
     ]
    }
   ],
   "source": [
    "diction = {\n",
    "    \"a\" : \"Apple\",\n",
    "    \"b\" : \"Banana\",\n",
    "    \"c\" : \"Carrot\"\n",
    "}\n",
    "print(diction.get( \"a\" , \"Not available\"))"
   ]
  },
  {
   "cell_type": "code",
   "execution_count": 19,
   "metadata": {},
   "outputs": [
    {
     "name": "stdout",
     "output_type": "stream",
     "text": [
      "Original :  45\n",
      "Sum of Original 45 and reversed 54 :  99\n"
     ]
    }
   ],
   "source": [
    "n = int(input(\"Enter 2-digit number\"))\n",
    "print(\"Original : \" ,n)\n",
    "print(\"Sum of Original\", n, \"and reversed\", str(n)[::-1] , \": \", int(str(n)[::-1])+n )"
   ]
  },
  {
   "cell_type": "code",
   "execution_count": 29,
   "metadata": {},
   "outputs": [
    {
     "name": "stdout",
     "output_type": "stream",
     "text": [
      "True\n"
     ]
    }
   ],
   "source": [
    "n = input()\n",
    "sum = 0\n",
    "for i in n:\n",
    "    sum += int(i)**len(n)\n",
    "print(sum==int(n))"
   ]
  },
  {
   "cell_type": "code",
   "execution_count": 31,
   "metadata": {},
   "outputs": [
    {
     "name": "stdout",
     "output_type": "stream",
     "text": [
      "5\n"
     ]
    }
   ],
   "source": [
    "n = input(\"Enter a number: \")\n",
    "count = 0\n",
    "for i in n:\n",
    "    if i == \"0\":\n",
    "        count+=1\n",
    "print(count)"
   ]
  },
  {
   "cell_type": "code",
   "execution_count": 34,
   "metadata": {},
   "outputs": [],
   "source": [
    "n = input(\"Enter your number: \")\n",
    "for i in n:\n",
    "    if n.find(str(i)):\n",
    "        print(\"\")\n",
    "    else:\n",
    "        print(i,end=\" \")"
   ]
  },
  {
   "cell_type": "code",
   "execution_count": 35,
   "metadata": {},
   "outputs": [
    {
     "name": "stdout",
     "output_type": "stream",
     "text": [
      "50\n"
     ]
    }
   ],
   "source": [
    "from math import *\n",
    "print(max(4,20,50))"
   ]
  },
  {
   "cell_type": "code",
   "execution_count": 28,
   "metadata": {},
   "outputs": [
    {
     "name": "stdout",
     "output_type": "stream",
     "text": [
      "C g n i n i a r T   C C C "
     ]
    },
    {
     "ename": "IndexError",
     "evalue": "string index out of range",
     "output_type": "error",
     "traceback": [
      "\u001b[1;31m---------------------------------------------------------------------------\u001b[0m",
      "\u001b[1;31mIndexError\u001b[0m                                Traceback (most recent call last)",
      "\u001b[1;32md:\\Coding\\Python\\CCC_Training.ipynb Cell 21'\u001b[0m in \u001b[0;36m<cell line: 3>\u001b[1;34m()\u001b[0m\n\u001b[0;32m      <a href='vscode-notebook-cell:/d%3A/Coding/Python/CCC_Training.ipynb#ch0000020?line=1'>2</a>\u001b[0m a\u001b[39m=\u001b[39m\u001b[39m0\u001b[39m\n\u001b[0;32m      <a href='vscode-notebook-cell:/d%3A/Coding/Python/CCC_Training.ipynb#ch0000020?line=2'>3</a>\u001b[0m \u001b[39mwhile\u001b[39;00m a\u001b[39m<\u001b[39m\u001b[39mlen\u001b[39m(my_text):\n\u001b[1;32m----> <a href='vscode-notebook-cell:/d%3A/Coding/Python/CCC_Training.ipynb#ch0000020?line=3'>4</a>\u001b[0m     \u001b[39mprint\u001b[39m(my_text[a],end\u001b[39m=\u001b[39m\u001b[39m\"\u001b[39m\u001b[39m \u001b[39m\u001b[39m\"\u001b[39m)\n\u001b[0;32m      <a href='vscode-notebook-cell:/d%3A/Coding/Python/CCC_Training.ipynb#ch0000020?line=4'>5</a>\u001b[0m     a\u001b[39m-\u001b[39m\u001b[39m=\u001b[39m\u001b[39m1\u001b[39m\n",
      "\u001b[1;31mIndexError\u001b[0m: string index out of range"
     ]
    }
   ],
   "source": [
    "def even(start, n):\n",
    "    l = []\n",
    "    if start%2!=0:\n",
    "        start += 1\n",
    "    while n"
   ]
  },
  {
   "cell_type": "code",
   "execution_count": 3,
   "metadata": {},
   "outputs": [
    {
     "name": "stdout",
     "output_type": "stream",
     "text": [
      "5/2\n"
     ]
    }
   ],
   "source": [
    "import sympy as sym\n",
    "a = sym.Rational(5,2)\n",
    "print(a)"
   ]
  },
  {
   "cell_type": "code",
   "execution_count": 12,
   "metadata": {},
   "outputs": [
    {
     "name": "stdout",
     "output_type": "stream",
     "text": [
      "6.28318530717959\n"
     ]
    }
   ],
   "source": [
    "import sympy as sym\n",
    "print((sym.pi + sym.pi).evalf())"
   ]
  },
  {
   "cell_type": "code",
   "execution_count": 18,
   "metadata": {},
   "outputs": [
    {
     "data": {
      "text/latex": [
       "$\\displaystyle x^{4} + 4 x^{3} y + 6 x^{2} y^{2} + 4 x y^{3} + y^{4}$"
      ],
      "text/plain": [
       "x**4 + 4*x**3*y + 6*x**2*y**2 + 4*x*y**3 + y**4"
      ]
     },
     "execution_count": 18,
     "metadata": {},
     "output_type": "execute_result"
    }
   ],
   "source": [
    "x = sym.Symbol('x')\n",
    "y = sym.Symbol('y')\n",
    "x+y-x+y\n",
    "sym.expand((x+y)**4)\n"
   ]
  },
  {
   "cell_type": "code",
   "execution_count": 2,
   "metadata": {},
   "outputs": [
    {
     "name": "stdout",
     "output_type": "stream",
     "text": [
      "X   \n",
      "----\n",
      "John\n",
      "Sam \n",
      "X   \n",
      "----\n",
      "Mary\n",
      "John\n"
     ]
    }
   ],
   "source": [
    "from pyDatalog import pyDatalog\n",
    "pyDatalog.create_terms('X,Y,Z, works_in, department_size, manager, indirect_manager, count_of_indirect_reports')\n",
    "# Mary works in Production\n",
    "+works_in('Mary', 'Production')\n",
    "+works_in('Sam',  'Marketing')\n",
    "+works_in('John', 'Production')\n",
    "+works_in('John', 'Marketing')\n",
    "+(manager['Mary'] == 'John')\n",
    "+(manager['Sam']  == 'Mary')\n",
    "+(manager['Tom']  == 'Mary')\n",
    "\n",
    "indirect_manager(X,Y) <= (manager[X] == Y)\n",
    "print(works_in(X,  'Marketing'))\n",
    "indirect_manager(X,Y) <= (manager[X] == Z) & indirect_manager(Z,Y)\n",
    "print(indirect_manager('Sam',X))"
   ]
  }
 ],
 "metadata": {
  "interpreter": {
   "hash": "81794d4967e6c3204c66dcd87b604927b115b27c00565d3d43f05ba2f3a2cb0d"
  },
  "kernelspec": {
   "display_name": "Python 3.9.5 64-bit",
   "language": "python",
   "name": "python3"
  },
  "language_info": {
   "codemirror_mode": {
    "name": "ipython",
    "version": 3
   },
   "file_extension": ".py",
   "mimetype": "text/x-python",
   "name": "python",
   "nbconvert_exporter": "python",
   "pygments_lexer": "ipython3",
   "version": "3.9.5"
  },
  "orig_nbformat": 4
 },
 "nbformat": 4,
 "nbformat_minor": 2
}
