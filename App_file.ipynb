{
 "cells": [
  {
   "cell_type": "code",
   "execution_count": 4,
   "metadata": {},
   "outputs": [
    {
     "name": "stdout",
     "output_type": "stream",
     "text": [
      "SRM\n",
      "APP\n",
      "DAA\n",
      "SEPM\n",
      "CC\n",
      "SWE\n"
     ]
    }
   ],
   "source": [
    "class SRMIST:\n",
    "    def __init__(self,school, dept1, dept2, dept3, dept4, sp):\n",
    "        self.school = school\n",
    "        self.dept1 = dept1\n",
    "        self.dept2 = dept2\n",
    "        self.dept3 = dept3\n",
    "        self.dept4 = dept4\n",
    "        self.sp = sp\n",
    "s = SRMIST(\"SRM\",\"APP\",\"DAA\",\"SEPM\",\"CC\",\"SWE\")\n",
    "print(s.school)\n",
    "print(s.dept1)\n",
    "print(s.dept2)\n",
    "print(s.dept3)\n",
    "print(s.dept4)\n",
    "print(s.sp)"
   ]
  },
  {
   "cell_type": "code",
   "execution_count": 7,
   "metadata": {},
   "outputs": [
    {
     "name": "stdout",
     "output_type": "stream",
     "text": [
      "SCO\n",
      "CSE\n"
     ]
    }
   ],
   "source": [
    "class Dept:\n",
    "    def __init__(self, *args): \n",
    "        if len(args) == 1: \n",
    "            self.dept=args[0] \n",
    "        elif len(args) == 0: \n",
    "            self.dept=\"SCO\" \n",
    " \n",
    "    def deptname(self):\n",
    "        print(self.dept)\n",
    " \n",
    "d1=Dept()\n",
    "d1.deptname()\n",
    "d2=Dept(\"CSE\")\n",
    "d2.deptname()"
   ]
  },
  {
   "cell_type": "code",
   "execution_count": 81,
   "metadata": {},
   "outputs": [
    {
     "name": "stdout",
     "output_type": "stream",
     "text": [
      "50\n",
      "100\n",
      "0\n"
     ]
    }
   ],
   "source": [
    "class rectangle:\n",
    "    l = 0\n",
    "    b = 0\n",
    "    def __init__ (self, *args):\n",
    "        if len(args) == 1:\n",
    "            self.l = args[0]\n",
    "            self.b = args[0]\n",
    "        elif len(args) == 2:\n",
    "            self.l = args[0]\n",
    "            self.b = args[1]\n",
    "        else:\n",
    "            self.l = 0\n",
    "            self.b = 0\n",
    "    def area(self):\n",
    "        return self.l*self.b\n",
    "\n",
    "r1 = rectangle(5,10)\n",
    "print(r1.area())\n",
    "r2 = rectangle(10)\n",
    "print(r2.area())\n",
    "r3 = rectangle()\n",
    "print(r3.area())"
   ]
  },
  {
   "cell_type": "code",
   "execution_count": 30,
   "metadata": {},
   "outputs": [
    {
     "name": "stdout",
     "output_type": "stream",
     "text": [
      "Area of triangle : 180.0\n",
      "Perameter of triangle :12\n"
     ]
    }
   ],
   "source": [
    "class triangle:\n",
    "    a = 0\n",
    "    b = 0\n",
    "    c = 0\n",
    "    def __init__ (self, a, b, c):\n",
    "        self.a = a\n",
    "        self.b = b\n",
    "        self.c = c\n",
    "    def area(self):\n",
    "        s = (self.a + self.b + self.c) / 2\n",
    "        return (s * (self.a) * (self.b) * (self.c) * 0.5 )\n",
    "    def para(self):\n",
    "        p = self.a + self.b + self.c\n",
    "        return p\n",
    "\n",
    "obj = triangle (3, 4, 5)\n",
    "print(\"Area of triangle : {}\".format(obj.area()))\n",
    "print(\"Perameter of triangle :{}\".format(obj.para()))"
   ]
  },
  {
   "cell_type": "code",
   "execution_count": 36,
   "metadata": {},
   "outputs": [
    {
     "name": "stdout",
     "output_type": "stream",
     "text": [
      "Time is  4  hours and  1  minutes\n",
      "241\n"
     ]
    }
   ],
   "source": [
    "class Time():\n",
    "    def __init__ (self, hours, mins):\n",
    "        self.hours = hours\n",
    "        self.mins = mins\n",
    "    def add_Time(t1, t2):\n",
    "        t3 = Time(0,0)\n",
    "        if t1.mins + t2.mins > 60:\n",
    "            t3.hours = (t1.mins + t2.mins) // 60\n",
    "            t3.hours = (t1.hours + t2.hours + t3.hours)\n",
    "            t3.mins = (t1.mins + t2.mins) // 60\n",
    "            return t3\n",
    "    def display_time(self):\n",
    "        print(\"Time is \", self.hours, \" hours and \", self.mins, \" minutes\")\n",
    "    def display_minute(self):\n",
    "        print( (self.hours * 60) + self.mins)\n",
    "        \n",
    "a = Time(2, 40)\n",
    "b = Time(1, 30)\n",
    "c = Time.add_Time(a, b)\n",
    "c.display_time()\n",
    "c.display_minute()"
   ]
  },
  {
   "cell_type": "code",
   "execution_count": 37,
   "metadata": {},
   "outputs": [
    {
     "name": "stdout",
     "output_type": "stream",
     "text": [
      "Total objects of class is  3\n"
     ]
    }
   ],
   "source": [
    "class count:\n",
    "    counter = 0\n",
    "    def __init__ (self):\n",
    "        count.counter += 1\n",
    "\n",
    "g1 = count()\n",
    "g2 = count()\n",
    "g3 = count()\n",
    "print(\"Total objects of class is \", count.counter)"
   ]
  },
  {
   "cell_type": "code",
   "execution_count": 42,
   "metadata": {},
   "outputs": [
    {
     "name": "stdout",
     "output_type": "stream",
     "text": [
      "Max Speed :  120\n",
      "Milage    :  100\n"
     ]
    }
   ],
   "source": [
    "class Vehical:\n",
    "    def __init__ (self, max_speed, milage):\n",
    "        self.max_speed = max_speed\n",
    "        self.milagi = milage\n",
    "\n",
    "vehical = Vehical( 120, 100)\n",
    "print(\"Max Speed : \",vehical.max_speed)\n",
    "print(\"Milage    : \",vehical.milagi)"
   ]
  },
  {
   "cell_type": "code",
   "execution_count": 44,
   "metadata": {},
   "outputs": [
    {
     "name": "stdout",
     "output_type": "stream",
     "text": [
      "Vehical Name   :  Srm Shuttle\n",
      "Vehical Speed  :  120\n",
      "Vehical Milage :  18\n"
     ]
    }
   ],
   "source": [
    "class Vehical:\n",
    "    def __init__ (self, name, max_speed, milage):\n",
    "        self.name = name\n",
    "        self.max_speed = max_speed\n",
    "        self.milage = milage\n",
    "\n",
    "class Bus(Vehical):\n",
    "    pass\n",
    "\n",
    "school_bus = Bus(\"Srm Shuttle\", 120, 18)\n",
    "print(\"Vehical Name   : \", school_bus.name)\n",
    "print(\"Vehical Speed  : \", school_bus.max_speed)\n",
    "print(\"Vehical Milage : \", school_bus.milage)"
   ]
  },
  {
   "cell_type": "code",
   "execution_count": null,
   "metadata": {},
   "outputs": [],
   "source": [
    "#########################################           EXERCISE 4             ######################################## "
   ]
  },
  {
   "cell_type": "code",
   "execution_count": 45,
   "metadata": {},
   "outputs": [
    {
     "name": "stdout",
     "output_type": "stream",
     "text": [
      "Opened Database Successfully\n"
     ]
    }
   ],
   "source": [
    "import sqlite3\n",
    "conn = sqlite3.connect('test.db')\n",
    "print(\"Opened Database Successfully\")"
   ]
  },
  {
   "cell_type": "code",
   "execution_count": 46,
   "metadata": {},
   "outputs": [
    {
     "name": "stdout",
     "output_type": "stream",
     "text": [
      "Opened database successfully\n",
      "Table Created successfully\n"
     ]
    }
   ],
   "source": [
    "import sqlite3\n",
    "conn = sqlite3.connect('test.db')\n",
    "print(\"Opened database successfully\")\n",
    "\n",
    "conn.execute('''CREATE TABLE COMPANY\n",
    "(ID INT PRIMARY KEY NOT NULL,\n",
    " NAME, TEXT NOT NULL, AGE INT NOT NULL,\n",
    " ADDRESS CHAR(50), SALARY REAL);''')\n",
    "\n",
    "print(\"Table Created successfully\");\n",
    "conn.close()"
   ]
  },
  {
   "cell_type": "code",
   "execution_count": 5,
   "metadata": {},
   "outputs": [
    {
     "name": "stdout",
     "output_type": "stream",
     "text": [
      "Opened database successfully\n"
     ]
    },
    {
     "ename": "OperationalError",
     "evalue": "unrecognized token: \"\\\"",
     "output_type": "error",
     "traceback": [
      "\u001b[1;31m---------------------------------------------------------------------------\u001b[0m",
      "\u001b[1;31mOperationalError\u001b[0m                          Traceback (most recent call last)",
      "\u001b[1;32md:\\Coding\\Python\\App_File.ipynb Cell 12'\u001b[0m in \u001b[0;36m<cell line: 5>\u001b[1;34m()\u001b[0m\n\u001b[0;32m      <a href='vscode-notebook-cell:/d%3A/Coding/Python/App_File.ipynb#ch0000015?line=1'>2</a>\u001b[0m conn \u001b[39m=\u001b[39m sqlite3\u001b[39m.\u001b[39mconnect(\u001b[39m'\u001b[39m\u001b[39mtest.db\u001b[39m\u001b[39m'\u001b[39m)\n\u001b[0;32m      <a href='vscode-notebook-cell:/d%3A/Coding/Python/App_File.ipynb#ch0000015?line=2'>3</a>\u001b[0m \u001b[39mprint\u001b[39m(\u001b[39m\"\u001b[39m\u001b[39mOpened database successfully\u001b[39m\u001b[39m\"\u001b[39m)\n\u001b[1;32m----> <a href='vscode-notebook-cell:/d%3A/Coding/Python/App_File.ipynb#ch0000015?line=4'>5</a>\u001b[0m conn\u001b[39m.\u001b[39;49mexecute(\u001b[39m'''\u001b[39;49m\u001b[39mINSERT INTO COMPANY(ID, NAME, AGE, ADDRESS, SALARY) \u001b[39;49m\u001b[39m\\\u001b[39;49m\u001b[39m VALUES(1,\u001b[39;49m\u001b[39m'\u001b[39;49m\u001b[39mPaul\u001b[39;49m\u001b[39m'\u001b[39;49m\u001b[39m,\u001b[39;49m\u001b[39m'\u001b[39;49m\u001b[39m32\u001b[39;49m\u001b[39m'\u001b[39;49m\u001b[39m,\u001b[39;49m\u001b[39m'\u001b[39;49m\u001b[39mCalifornia\u001b[39;49m\u001b[39m'\u001b[39;49m\u001b[39m,20000.00)\u001b[39;49m\u001b[39m'''\u001b[39;49m)\n\u001b[0;32m      <a href='vscode-notebook-cell:/d%3A/Coding/Python/App_File.ipynb#ch0000015?line=6'>7</a>\u001b[0m conn\u001b[39m.\u001b[39mexecute(\u001b[39m'''\u001b[39m\u001b[39mINSERT INTO COMPANY(ID, NAME, AGE, ADDRESS, SALARY) \u001b[39m\u001b[39m\\\u001b[39m\u001b[39m VALUES(2,\u001b[39m\u001b[39m'\u001b[39m\u001b[39mAllen\u001b[39m\u001b[39m'\u001b[39m\u001b[39m,\u001b[39m\u001b[39m'\u001b[39m\u001b[39m25\u001b[39m\u001b[39m'\u001b[39m\u001b[39m,\u001b[39m\u001b[39m'\u001b[39m\u001b[39mTexus\u001b[39m\u001b[39m'\u001b[39m\u001b[39m,5000.00)\u001b[39m\u001b[39m'''\u001b[39m)\n\u001b[0;32m      <a href='vscode-notebook-cell:/d%3A/Coding/Python/App_File.ipynb#ch0000015?line=8'>9</a>\u001b[0m conn\u001b[39m.\u001b[39mcommit()\n",
      "\u001b[1;31mOperationalError\u001b[0m: unrecognized token: \"\\\""
     ]
    }
   ],
   "source": [
    "import sqlite3\n",
    "conn = sqlite3.connect('test.db')\n",
    "print(\"Opened database successfully\")\n",
    "\n",
    "conn.execute('''INSERT INTO COMPANY(ID, NAME, AGE, ADDRESS, SALARY) \\ VALUES(1,'Paul','32','California',20000.00)''')\n",
    "\n",
    "conn.execute('''INSERT INTO COMPANY(ID, NAME, AGE, ADDRESS, SALARY) \\ VALUES(2,'Allen','25','Texus',5000.00)''')\n",
    "\n",
    "conn.commit()\n",
    "print(\"Record created successfully\")\n",
    "conn.close()"
   ]
  },
  {
   "cell_type": "code",
   "execution_count": null,
   "metadata": {},
   "outputs": [],
   "source": [
    "##########################################          Exercise 6            #############################################"
   ]
  },
  {
   "cell_type": "code",
   "execution_count": 82,
   "metadata": {},
   "outputs": [],
   "source": [
    "from tkinter import *\n",
    "from tkinter import ttk\n",
    "root =Tk()\n",
    "root.title(\"Student\")\n",
    "root.geometry(\"300x300\")\n",
    "#frame=ttk.Frame(root)\n",
    "RegnoLabel=ttk.Label(root,text=\"Regno\")\n",
    "RegnoLabel.grid(column=0,row=0,padx=10,pady=10)\n",
    "Regno=ttk.Entry(root)\n",
    "Regno.grid(column=1,row=0)\n",
    "nameLabel=ttk.Label(root,text=\"Name:\")\n",
    "nameLabel.grid(column=0,row=1,padx=10,pady=10)\n",
    "name=ttk.Entry(root)\n",
    "name.grid(column=1,row=1)\n",
    "deptlabel=ttk.Label(root,text=\"Dept\")\n",
    "deptlabel.grid(column=0,row=2,padx=10,pady=10)\n",
    "dept=ttk.Entry(root)\n",
    "dept.grid(column=1,row=2)\n",
    "genLabel=ttk.Label(root,text=\"Gender\")\n",
    "genLabel.grid(column=0,row=3,padx=10,pady=10)\n",
    "v = IntVar()\n",
    "Radiobutton(root, text='Male',variable=v, value=1).grid(row=3, column=1)\n",
    "Radiobutton(root, text='Female',variable=v, value=2).grid(row=3, column=2)\n",
    "ageLabel=ttk.Label(root,text=\"Age\")\n",
    "ageLabel.grid(column=0,row=4,padx=10,pady=10)\n",
    "w = Spinbox(root, from_=1, to = 100)\n",
    "w.grid(row=4, column = 1)\n",
    "insrt = Button(root, text= 'Insert', fg='black')\n",
    "insrt.grid(row=5)\n",
    "updte = Button(root, text= 'Update', fg='black')\n",
    "updte.grid(row=5,column=1)\n",
    "dlte = Button(root, text='Delete', fg='black')\n",
    "dlte.grid(row=6)\n",
    "slct = Button(root, text ='select', fg='black')\n",
    "slct.grid(row=6,column=1)\n",
    "root.mainloop()"
   ]
  },
  {
   "cell_type": "code",
   "execution_count": 85,
   "metadata": {},
   "outputs": [],
   "source": [
    "from tkinter import *\n",
    "master = Tk()\n",
    "Label(master, text='Annual Rate').grid(row=0,padx=10,pady=10)\n",
    "Label(master, text='Number of Payments').grid(row=1,padx=10,pady=10)\n",
    "Label(master, text='Loan Principle').grid(row=2,padx=10,pady=10)\n",
    "Label(master, text='Monthly Payment').grid(row=3,padx=10,pady=10)\n",
    "Label(master, text='Remaining Loan').grid(row=3,padx=10,pady=10)\n",
    "el = Entry(master).grid(row=0, column=1,)\n",
    "e2 = Entry(master)\n",
    "e3 = Entry(master)\n",
    "e4 = Entry(master)\n",
    "e2.grid(row=1, column=1)\n",
    "e3.grid(row=2, column=1)\n",
    "e4.grid(row=3, column=1)\n",
    "fb = Button(master, text = 'Final Balance', )\n",
    "fb.grid(row=6, column=0,padx=10,pady=10)\n",
    "mp = Button(master, text = 'Monthly Payment', fg='black')\n",
    "mp.grid(row=6,column=1,padx=10,pady=10)\n",
    "qt = Button(master, text = 'Quit', fg = 'black', command=master.destroy)\n",
    "qt.grid(row=6,column=2,padx=10,pady=10)\n",
    "mainloop()"
   ]
  },
  {
   "cell_type": "code",
   "execution_count": 10,
   "metadata": {},
   "outputs": [],
   "source": [
    "from tkinter import *\n",
    "tk=Tk(className=\"registration form\")\n",
    "tk.geometry(\"350x300\")\n",
    "tk.configure(bg='light green')\n",
    "form=Label(tk,text=\"Form\",bg='light green').grid(row=0,column=1,padx=50)\n",
    "name=Label(tk,text=\"Name\",bg='light green').grid(row=1,column=0)\n",
    "e1=Entry(tk,width=40).grid(row=1,column=1)\n",
    "Course=Label(tk,text=\"Course\",bg='light green').grid(row=2,column=0)\n",
    "e1=Entry(tk,width=40).grid(row=2,column=1)\n",
    "semester=Label(tk,text=\"Semester\",bg='light green').grid(row=3,column=0)\n",
    "e1=Entry(tk,width=40).grid(row=3,column=1)\n",
    "phnn=Label(tk,text=\"Form no.\",bg='light green').grid(row=4,column=0)\n",
    "e1=Entry(tk,width=40).grid(row=4,column=1)\n",
    "conta=Label(tk,text=\"Contact no.\",bg='light green').grid(row=5,column=0)\n",
    "e1=Entry(tk,width=40).grid(row=5,column=1)\n",
    "email=Label(tk,text=\"Email ID\",bg='light green').grid(row=6,column=0)\n",
    "e1=Entry(tk,width=40).grid(row=6,column=1)\n",
    "addr=Label(tk,text=\"Address\",bg='light green').grid(row=7,column=0)\n",
    "e1=Entry(tk,width=40).grid(row=7,column=1)\n",
    "submit=Button(tk,text=\"Submit\",bg='red').grid(row=8,column=1,padx=50)\n",
    "tk.mainloop()"
   ]
  },
  {
   "cell_type": "code",
   "execution_count": 86,
   "metadata": {},
   "outputs": [],
   "source": [
    "from cgitb import text \n",
    "from tkinter import *\n",
    "from tkinter import messagebox \n",
    "from tkinter import ttk\n",
    "master = Tk() \n",
    "master.title('tk') \n",
    "master.geometry('800x800')\n",
    "Label(master,text='Title  ').grid(row=0) \n",
    "Label(master, text='Last Name ').grid(row=1) \n",
    "Label(master,text='First Name ').grid(row=2) \n",
    "Label(master, text='Share with ').grid(row=3) \n",
    "Label(master,text='Business number ').grid(row=4) \n",
    "Label(master, text='Mobile Number ').grid(row=5) \n",
    "Label(master, text='Email Address ').grid(row=6) \n",
    "Label(master, text='Date of Arrival ').grid(row=7) \n",
    "Label(master,text='Date of Departure ').grid(row=8)\n",
    "Label(master, text='Name on Credit Number ').grid(row=9) \n",
    "Label(master,text='Credit Card Number ').grid(row=10) \n",
    "Label(master, text='Expire Date ').grid(row=11) \n",
    "Label(master,text='CVV Number ').grid(row=12) \n",
    "Label(master,text='Payment ').grid(row=13)\n",
    "\n",
    "for i in range(0,14):\n",
    "    ei= Entry(master, width=50).grid(row=i,column=1) \n",
    "var1 = IntVar()\n",
    " \n",
    "Checkbutton(master, text=\"Credit Card\",variable=var1).grid(row=13, column=1, sticky=W,ipady=10, ipadx=10)\n",
    "var2 = IntVar()\n",
    "Checkbutton(master,text=\"Direct bank Transfer\", variable=var2).grid(row=13, column=2, sticky=W,ipady=10,ipadx=10)\n",
    "Label(master,font=(\"Arial\", 10), text= 'Negotiated Rates: ').grid(row=14,column=0)\n",
    "var3 = IntVar()\n",
    "Checkbutton(master,text=\"Deluxe Room Single \", variable=var3).grid(row=15, column=0, sticky=W,ipady=10,ipadx=10)\n",
    "Label(master,text='R 1700 ').grid(row=15,column=1) \n",
    "var4 = IntVar()\n",
    "Checkbutton(master,text=\"Deluxe Room Double \", variable=var4).grid(row=15, column=2, sticky=W,ipady=10,ipadx=10)\n",
    "Label(master,text='R 1700 ').grid(row=15,column=3) \n",
    "var5 = IntVar()\n",
    "Checkbutton(master,text=\"Suites Room Single \", variable=var5).grid(row=16, column=0, sticky=W,ipady=10,ipadx=10)\n",
    "Label(master,text='R 1700 ').grid(row=16,column=1) \n",
    "var6 = IntVar()\n",
    "Checkbutton(master,text=\"Suites Room Double \", variable=var6).grid(row=16, column=2, sticky=W,ipady=10,ipadx=10)\n",
    "Label(master,text='R 1700 ').grid(row=16,column=3)\n",
    "Label(master,font=(\"Arial\", 10), text= 'Room Preference: ').grid(row=17,column=0)\n",
    "var7 = IntVar()\n",
    "Checkbutton(master,text=\"King Bed \", variable=var7).grid(row=18, column=0, sticky=W,ipady=10,ipadx=10)\n",
    "var8 = IntVar()\n",
    " \n",
    "Checkbutton(master,text=\"Twin-Two Single Beds \", variable=var8).grid(row=18, column=2, sticky=W,ipady=10,ipadx=10)\n",
    "Label(master,font=(\"Arial\", 10), text= 'The above rates are quoted per room, per night. The rates includes breakfast, 14% vat, and Excludes 1% Tourism Levy ').place(x=0,y=500)\n",
    "Label(master,font=(\"Arial\", 10), text= 'and a voluntary R10 donation to the Ambela Community Trust that will be levies onto your account.').place(x=0,y=525)\n",
    "Label(master,font=(\"Arial\", 10), text= 'Credit Card will be changed on receipt of this form and details will also be used to settle all incidentals ').place(x=0,y=550)\n",
    "Label(master,font=(\"Arial\", 10), text= 'not settle on departure. A copy of the final folio will be sent to you should there be any unsettled changes.').place(x=0,y=575)\n",
    "Label(master,font=(\"Arial\", 10), text= 'In order to qualify for the above rates your booking needs to be made on or before 15th January 2016').place(x=0,y=600)\n",
    "Label(master,font=(\"Arial\", 10), text= 'Terms and conditions can be found on the next page').place(x=0,y=625)\n",
    "Label(master,font=(\"Arial\", 10), text= 'The rate is valid for seven days before and after the conference dates. Check in time is 14:00 & check out time is 11:00').place(x=0,y=650)\n",
    "Label(master,font=(\"Arial\", 10), text= 'By your signature hereto, you are accepting all terms and conditions specified on this form and confirm that all information').place(x=0,y=675)\n",
    "Label(master,font=(\"Arial\", 10), text= 'given is current and accurate.').place(x=0,y=700)\n",
    "Label(master,font=(\"Arial\", 10), text='Signature\t').place(x=0,y=740)\n",
    "Label(master,font=(\"Arial\", 10), text='Pointname\t').place(x=400,y=740)\n",
    " \n",
    "Label(master,font=(\"Arial\", 10), text ='Date\t').place(x=0,y=765) \n",
    "master.mainloop()"
   ]
  },
  {
   "cell_type": "code",
   "execution_count": 87,
   "metadata": {},
   "outputs": [
    {
     "name": "stdout",
     "output_type": "stream",
     "text": [
      " 001110\n"
     ]
    }
   ],
   "source": [
    "import random\n",
    "def random_key(p):\n",
    "    key=\" \"\n",
    "    for i in range(p):\n",
    "        temp=str(random.randint(0,1))\n",
    "        key += temp\n",
    "    return(key)\n",
    "\n",
    "n=int(input(\"Entr a digit: \"))\n",
    "str1 = random_key(n)\n",
    "print(str1)"
   ]
  },
  {
   "cell_type": "code",
   "execution_count": null,
   "metadata": {},
   "outputs": [],
   "source": [
    "######################################                Experiment 6         ###################################"
   ]
  },
  {
   "cell_type": "code",
   "execution_count": 18,
   "metadata": {},
   "outputs": [
    {
     "name": "stdout",
     "output_type": "stream",
     "text": [
      "16.4 feets\n"
     ]
    }
   ],
   "source": [
    "x = lambda a : a * 3.28\n",
    "b = float(input(\"Enter the number in meters\"))\n",
    "print(x(b), \"feets\")"
   ]
  },
  {
   "cell_type": "code",
   "execution_count": 19,
   "metadata": {},
   "outputs": [
    {
     "name": "stdout",
     "output_type": "stream",
     "text": [
      "Oldest age is 45 and youngest is 8 and the difference is 37\n"
     ]
    }
   ],
   "source": [
    "def age(o,y):\n",
    "    diff=o-y\n",
    "    return diff,o,y\n",
    "o=int(input())\n",
    "y=int(input())\n",
    "diff,o,y=age(o,y)\n",
    "print(f\"Oldest age is {o} and youngest is {y} and the difference is {diff}\")"
   ]
  },
  {
   "cell_type": "code",
   "execution_count": 20,
   "metadata": {},
   "outputs": [
    {
     "name": "stdout",
     "output_type": "stream",
     "text": [
      "Prince Singh Lives in chennai\n",
      "P S L I C "
     ]
    }
   ],
   "source": [
    "def printInitials(name):\n",
    "    words = name.split(\" \")\n",
    "    for word in words:\n",
    "        print(word[0].upper(), end=\" \")\n",
    "name = input()\n",
    "print(name)\n",
    "printInitials(name)"
   ]
  },
  {
   "cell_type": "code",
   "execution_count": null,
   "metadata": {},
   "outputs": [],
   "source": [
    "from pyDatalog import pyDatalog\n",
    "pyDatalog.create_terms('X,Y,Z,bear,elephant,cat,small,big,brown,black,grey,dark')\n",
    "+black('cat')\n",
    "+brown('bear')\n",
    "dark(X) <= black(X) or brown(X)\n",
    "print(dark(X))"
   ]
  },
  {
   "cell_type": "code",
   "execution_count": 3,
   "metadata": {},
   "outputs": [
    {
     "name": "stdout",
     "output_type": "stream",
     "text": [
      "X        | Y    \n",
      "---------|------\n",
      "Cat      | Small\n",
      "Elephant | Big  \n",
      "Bear     | Big  \n",
      "Dog      | small\n",
      "Cat      | small\n",
      "Elephant | big  \n",
      "Bear     | big  \n"
     ]
    }
   ],
   "source": [
    "from pyDatalog import pyDatalog\n",
    "pyDatalog.create_terms(\"Bear,Elephant,Cat,Gray,Brown,Big,Small,size,Color,X,Y,Dark\")\n",
    "+size(\"Bear\",\"Big\")\n",
    "+size(\"Elephant\",\"Big\")\n",
    "+size(\"Cat\",\"Small\")\n",
    "+Color(\"Bear\",\"Brown\")\n",
    "+Color(\"Cat\",\"Black\")\n",
    "+Color(\"Elephant\",\"Gray\")\n",
    "print(size(X,Y))\n",
    "#print(Dark(X))\n",
    "#print(Dark(X) & (size(X,\"Big\")))"
   ]
  },
  {
   "cell_type": "code",
   "execution_count": 12,
   "metadata": {},
   "outputs": [
    {
     "name": "stdout",
     "output_type": "stream",
     "text": [
      "A       \n",
      "--------\n",
      "Elephant\n",
      "Bear    \n"
     ]
    }
   ],
   "source": [
    "from pyDatalog import pyDatalog\n",
    "pyDatalog.create_terms(\"A,B,Bear,Elephant,Cat,Dog,big,small,pet,wild,size\")\n",
    "+size('Bear','big')\n",
    "+size('Elephant','big')\n",
    "+size('Cat','small')\n",
    "+size('Dog','small')\n",
    "print(size(A,'big'))"
   ]
  },
  {
   "cell_type": "code",
   "execution_count": 20,
   "metadata": {},
   "outputs": [
    {
     "name": "stdout",
     "output_type": "stream",
     "text": [
      "_________________________\n",
      "X  | Y    \n",
      "---|------\n",
      "80 | shyam\n",
      "70 | carol\n",
      "85 | priya\n",
      "45 | raju \n",
      "90 | ram  \n",
      "_________________________\n",
      "X    \n",
      "-----\n",
      "shyam\n",
      "_________________________\n",
      "X \n",
      "--\n",
      "85\n",
      "_________________________\n",
      "X   \n",
      "----\n",
      "raju\n",
      "_________________________\n"
     ]
    }
   ],
   "source": [
    "from pyDatalog import pyDatalog\n",
    "pyDatalog.create_terms('X,Y,Z,student,marks,passm,grades')\n",
    "+student('ram')\n",
    "+student('raju')\n",
    "+student('priya')\n",
    "+student('carol')\n",
    "+student('shyam')\n",
    "+marks('90','ram')\n",
    "+marks('45','raju')\n",
    "+marks('85','priya')\n",
    "+marks('70','carol')\n",
    "+marks('80','shyam')\n",
    "+grades('ram','O')\n",
    "+grades('priya','A')\n",
    "+grades('shyam','A')\n",
    "+grades('carol','B')\n",
    "+grades('raju','E') \n",
    "print(\"_________________________\")\n",
    "print(marks(X,Y)) \n",
    "print(\"_________________________\")\n",
    "print(marks('80',X))\n",
    "print(\"_________________________\")\n",
    "print(marks(X,'priya'))\n",
    "print(\"_________________________\")\n",
    "passm(X)<=grades(X,'E') \n",
    "print(passm(X))\n",
    "print(\"_________________________\")"
   ]
  },
  {
   "cell_type": "code",
   "execution_count": 23,
   "metadata": {},
   "outputs": [
    {
     "name": "stdout",
     "output_type": "stream",
     "text": [
      "N  \n",
      "---\n",
      "120\n"
     ]
    }
   ],
   "source": [
    "from pyDatalog import pyDatalog\n",
    "pyDatalog.create_terms('factorial, N')\n",
    "num=int(input('Enter any number:'))\n",
    "factorial[N] = N*factorial[N-1]\n",
    "factorial[1] = 1\n",
    "print(factorial[num]==N)"
   ]
  },
  {
   "cell_type": "code",
   "execution_count": 35,
   "metadata": {},
   "outputs": [
    {
     "name": "stdout",
     "output_type": "stream",
     "text": [
      "Accepted\n"
     ]
    }
   ],
   "source": [
    "from automata.fa.dfa import DFA\n",
    "dfa = DFA(\n",
    "    states={'q0','q1','q2','q3'}, \n",
    "    input_symbols={'0', '1'}, \n",
    "    transitions={\n",
    "        'q0': {'0': 'q1', '1': 'q0'},\n",
    "        'q1': {'0': 'q2', '1': 'q0'},\n",
    "        'q2': {'0': 'q2', '1': 'q3'},\n",
    "        'q3': {'0': 'q3', '1': 'q3'}\n",
    "    },\n",
    "    initial_state='q0',\n",
    "    final_states={'q3'}\n",
    ")\n",
    "num = input(\"Enter the string:\")\n",
    "if(dfa.accepts_input(num)):\n",
    "    print(\"Accepted\")\n",
    "else:\n",
    "    print(\"Rejected\")"
   ]
  },
  {
   "cell_type": "code",
   "execution_count": 38,
   "metadata": {},
   "outputs": [
    {
     "name": "stdout",
     "output_type": "stream",
     "text": [
      "a Accepted\n",
      "aab Accepted\n",
      "aab Accepted\n",
      "aaab Rejected\n",
      "aaaab Accepted\n"
     ]
    }
   ],
   "source": [
    "from automata.fa.dfa import DFA \n",
    "dfa = DFA(\n",
    "states={'q0', 'q1', 'q2','q3','q4','q5'}, input_symbols={'a', 'b'},\n",
    "transitions={\n",
    "'q0': {'a': 'q1', 'b': 'q5'},\n",
    "'q1': {'a': 'q2', 'b': 'q5'},\n",
    "'q2': {'a': 'q3', 'b': 'q4'},\n",
    "'q3': {'a': 'q2', 'b': 'q5'},\n",
    "'q4': {'a': 'q5', 'b': 'q5'},\n",
    "'q5': {'a': 'q5', 'b': 'q5'}\n",
    "},\n",
    "initial_state='q0', final_states={'q1','q4'}\n",
    ")\n",
    "for i in range(1,6):\n",
    "    num = input(\"Enter the string :\")\n",
    "    if(dfa.accepts_input(num)):\n",
    "        print(num+\" Accepted\")\n",
    "    else:\n",
    "        print(num+\" Rejected\")\n"
   ]
  },
  {
   "cell_type": "code",
   "execution_count": 42,
   "metadata": {},
   "outputs": [
    {
     "name": "stdout",
     "output_type": "stream",
     "text": [
      "1/2\n"
     ]
    },
    {
     "data": {
      "text/latex": [
       "$\\displaystyle 0.5$"
      ],
      "text/plain": [
       "0.500000000000000"
      ]
     },
     "execution_count": 42,
     "metadata": {},
     "output_type": "execute_result"
    }
   ],
   "source": [
    "from sympy import *\n",
    "d = Rational(1,2)\n",
    "print(d)\n",
    "d.evalf()"
   ]
  },
  {
   "cell_type": "code",
   "execution_count": 45,
   "metadata": {},
   "outputs": [
    {
     "data": {
      "text/latex": [
       "$\\displaystyle 2 x$"
      ],
      "text/plain": [
       "2*x"
      ]
     },
     "execution_count": 45,
     "metadata": {},
     "output_type": "execute_result"
    }
   ],
   "source": [
    "from sympy import *\n",
    "x = sym.Symbol('x')\n",
    "y = sym.Symbol('y')\n",
    "x + y + x - y"
   ]
  },
  {
   "cell_type": "code",
   "execution_count": 52,
   "metadata": {},
   "outputs": [
    {
     "data": {
      "text/latex": [
       "$\\displaystyle x^{3}$"
      ],
      "text/plain": [
       "x**3"
      ]
     },
     "execution_count": 52,
     "metadata": {},
     "output_type": "execute_result"
    }
   ],
   "source": [
    "from sympy import *\n",
    "\n",
    "x = Symbol('x')\n",
    "expand(x**3)"
   ]
  },
  {
   "cell_type": "code",
   "execution_count": 53,
   "metadata": {},
   "outputs": [
    {
     "data": {
      "text/latex": [
       "$\\displaystyle a^{2} + 2 a b + b^{2}$"
      ],
      "text/plain": [
       "a**2 + 2*a*b + b**2"
      ]
     },
     "execution_count": 53,
     "metadata": {},
     "output_type": "execute_result"
    }
   ],
   "source": [
    "from sympy import *\n",
    "\n",
    "a,b = symbols('a,b')\n",
    "expand( (a+b)**2 )"
   ]
  },
  {
   "cell_type": "code",
   "execution_count": 54,
   "metadata": {},
   "outputs": [
    {
     "data": {
      "text/latex": [
       "$\\displaystyle \\left(a + b\\right)^{2}$"
      ],
      "text/plain": [
       "(a + b)**2"
      ]
     },
     "execution_count": 54,
     "metadata": {},
     "output_type": "execute_result"
    }
   ],
   "source": [
    "from sympy import *\n",
    "\n",
    "a,b = symbols('a,b')\n",
    "simplify( (a+b)**2 )"
   ]
  },
  {
   "cell_type": "code",
   "execution_count": 68,
   "metadata": {},
   "outputs": [
    {
     "name": "stdout",
     "output_type": "stream",
     "text": [
      "derivative 0 w.r.t x:  x**3*y + y**3 + z\n",
      "derivative 1 w.r.t x:  3*x**2*y\n",
      "derivative 2 w.r.t x:  6*x*y\n",
      "derivative 3 w.r.t x:  6*y\n",
      "derivative 4 w.r.t x:  0\n"
     ]
    }
   ],
   "source": [
    "import sympy as sym\n",
    " \n",
    "# Declaring variables\n",
    "x, y, z = sym.symbols('x y z')\n",
    " \n",
    "# expression of which we have to find derivative\n",
    "exp = x**3 * y + y**3 + z\n",
    " \n",
    "# Differentiating exp with respect to x\n",
    "derivative1_x = sym.diff(exp, x, 0)\n",
    "print('derivative 0 w.r.t x: ',\n",
    "      derivative1_x)\n",
    "derivative1_x = sym.diff(exp, x, 1)\n",
    "print('derivative 1 w.r.t x: ',\n",
    "      derivative1_x)\n",
    "derivative1_x = sym.diff(exp, x, 2)\n",
    "print('derivative 2 w.r.t x: ',\n",
    "      derivative1_x)\n",
    "derivative1_x = sym.diff(exp, x, 3)\n",
    "print('derivative 3 w.r.t x: ',\n",
    "      derivative1_x)\n",
    "derivative1_x = sym.diff(exp, x, 4)\n",
    "print('derivative 4 w.r.t x: ',\n",
    "      derivative1_x)\n"
   ]
  },
  {
   "cell_type": "code",
   "execution_count": 73,
   "metadata": {},
   "outputs": [
    {
     "name": "stdout",
     "output_type": "stream",
     "text": [
      "Hello from Thread 2! I am Thread 1 :)\n",
      "Hello from Thread 3! I am Thread 2 :)\n",
      "Hello from Thread 4! I am Thread 3 :)\n",
      "Hello from Thread 5! I am Thread 4 :)\n",
      "Hello from Thread 6! I am Thread 5 :)\n",
      "Hello from Thread 7! I am Thread 6 :)\n",
      "Hello from Thread 8! I am Thread 7 :)\n",
      "Hello from Thread 9! I am Thread 8 :)\n",
      "Hello from Thread 10! I am Thread 9 :)\n",
      "Hello from Thread 11! I am Thread 10 :)\n",
      "Hello from Thread 12! I am Thread 11 :)\n",
      "Hello from Thread 13! I am Thread 12 :)\n",
      "Hello from Thread 14! I am Thread 13 :)\n",
      "Hello from Thread 15! I am Thread 14 :)\n",
      "Hello from Thread 16! I am Thread 15 :)\n",
      "Hello from Thread 17! I am Thread 16 :)\n",
      "Hello from Thread 18! I am Thread 17 :)\n",
      "Hello from Thread 19! I am Thread 18 :)\n",
      "Hello from Thread 20! I am Thread 19 :)\n",
      "Hello from Thread 21! I am Thread 20 :)\n",
      "Hello from Thread 22! I am Thread 21 :)\n",
      "Hello from Thread 23! I am Thread 22 :)\n",
      "Hello from Thread 24! I am Thread 23 :)\n",
      "Hello from Thread 25! I am Thread 24 :)\n",
      "Hello from Thread 26! I am Thread 25 :)\n",
      "Hello from Thread 27! I am Thread 26 :)\n",
      "Hello from Thread 28! I am Thread 27 :)\n",
      "Hello from Thread 29! I am Thread 28 :)\n",
      "Hello from Thread 30! I am Thread 29 :)\n",
      "Hello from Thread 31! I am Thread 30 :)\n",
      "Hello from Thread 32! I am Thread 31 :)\n",
      "Hello from Thread 33! I am Thread 32 :)\n",
      "Hello from Thread 34! I am Thread 33 :)\n",
      "Hello from Thread 35! I am Thread 34 :)\n",
      "Hello from Thread 36! I am Thread 35 :)\n",
      "Hello from Thread 37! I am Thread 36 :)\n",
      "Hello from Thread 38! I am Thread 37 :)\n",
      "Hello from Thread 39! I am Thread 38 :)\n",
      "Hello from Thread 40! I am Thread 39 :)\n",
      "Hello from Thread 41! I am Thread 40 :)\n",
      "Hello from Thread 42! I am Thread 41 :)\n",
      "Hello from Thread 43! I am Thread 42 :)\n",
      "Hello from Thread 44! I am Thread 43 :)\n",
      "Hello from Thread 45! I am Thread 44 :)\n",
      "Hello from Thread 46! I am Thread 45 :)\n",
      "Hello from Thread 47! I am Thread 46 :)\n",
      "Hello from Thread 48! I am Thread 47 :)\n",
      "Hello from Thread 49! I am Thread 48 :)\n",
      "Hello from Thread 50! I am Thread 49 :)\n",
      "Hello from Thread 51! I am Thread 50 :)\n",
      " Total time taking by threads is : 5.444859743118286\n"
     ]
    }
   ],
   "source": [
    "import time # import time module\n",
    "import threading\n",
    "from threading import *\n",
    "ThreadCount = 0\n",
    "def req_thread(num): # define a square calculating function\n",
    "    if num<=0:\n",
    "        return 0\n",
    "    req_thread(num-1)\n",
    "    time.sleep(0.1)\n",
    "    print(f'Hello from Thread {num+1}! I am Thread {num} :)')\n",
    "t = time.time()\n",
    "th1 = threading.Thread(target=req_thread, args=(50, ))\n",
    "th1.start()\n",
    "th1.join()\n",
    "print(\" Total time taking by threads is :\", time.time() - t) "
   ]
  },
  {
   "cell_type": "code",
   "execution_count": 24,
   "metadata": {},
   "outputs": [
    {
     "name": "stdout",
     "output_type": "stream",
     "text": [
      "I'm a consumer Thread-9\n",
      "I'm a consumer Thread-10\n",
      "I'm a consumer Thread-11\n",
      "I'm a consumer Thread-12\n",
      "I'm a consumer Thread-13\n",
      "I'm a consumer Thread-14\n",
      "I'm a consumer Thread-15\n",
      "I'm a consumer Thread-16\n",
      "I'm a consumer Thread-17\n",
      "I'm a consumer Thread-18\n",
      "I'm the producer\n",
      "Thread-9 got 0\n",
      "Thread-10 got 1\n",
      "Thread-11 got 2\n",
      "Thread-12 got 3\n",
      "Thread-13 got 4\n",
      "Thread-14 got 5\n",
      "Thread-15 got 6\n",
      "Thread-16 got 7\n",
      "Thread-17 got 8\n",
      "Thread-18 got 9\n",
      "Thread-9 got 10\n",
      "Thread-10 got 11\n",
      "Thread-11 got 12\n",
      "Thread-12 got 13\n",
      "Thread-13 got 14\n"
     ]
    },
    {
     "ename": "KeyboardInterrupt",
     "evalue": "",
     "output_type": "error",
     "traceback": [
      "\u001b[1;31m---------------------------------------------------------------------------\u001b[0m",
      "\u001b[1;31mKeyboardInterrupt\u001b[0m                         Traceback (most recent call last)",
      "\u001b[1;32md:\\Coding\\Python\\App_file.ipynb Cell 37\u001b[0m in \u001b[0;36m<cell line: 23>\u001b[1;34m()\u001b[0m\n\u001b[0;32m     <a href='vscode-notebook-cell:/d%3A/Coding/Python/App_file.ipynb#ch0000036?line=20'>21</a>\u001b[0m     c\u001b[39m.\u001b[39mstart()\n\u001b[0;32m     <a href='vscode-notebook-cell:/d%3A/Coding/Python/App_file.ipynb#ch0000036?line=21'>22</a>\u001b[0m \u001b[39m# Run the producer\u001b[39;00m\n\u001b[1;32m---> <a href='vscode-notebook-cell:/d%3A/Coding/Python/App_file.ipynb#ch0000036?line=22'>23</a>\u001b[0m producer()\n",
      "\u001b[1;32md:\\Coding\\Python\\App_file.ipynb Cell 37\u001b[0m in \u001b[0;36mproducer\u001b[1;34m()\u001b[0m\n\u001b[0;32m      <a href='vscode-notebook-cell:/d%3A/Coding/Python/App_file.ipynb#ch0000036?line=5'>6</a>\u001b[0m \u001b[39mfor\u001b[39;00m i \u001b[39min\u001b[39;00m \u001b[39mrange\u001b[39m(\u001b[39m15\u001b[39m):\n\u001b[0;32m      <a href='vscode-notebook-cell:/d%3A/Coding/Python/App_file.ipynb#ch0000036?line=6'>7</a>\u001b[0m     items\u001b[39m.\u001b[39mput(i)\n\u001b[1;32m----> <a href='vscode-notebook-cell:/d%3A/Coding/Python/App_file.ipynb#ch0000036?line=7'>8</a>\u001b[0m     time\u001b[39m.\u001b[39;49msleep(\u001b[39m1\u001b[39;49m)\n",
      "\u001b[1;31mKeyboardInterrupt\u001b[0m: "
     ]
    }
   ],
   "source": [
    "import threading,time,queue\n",
    "items = queue.Queue()\n",
    "# A producer thread\n",
    "def producer():\n",
    "    print (\"I'm the producer\")\n",
    "    for i in range(15):\n",
    "        items.put(i)\n",
    "        time.sleep(1)\n",
    "# A consumer thread\n",
    "def consumer():\n",
    "    print (\"I'm a consumer\" ,threading.currentThread().name)\n",
    "    while True:\n",
    "        x = items.get() \n",
    "        print (threading.currentThread().name,\"got\", x)\n",
    "        time.sleep(5)       \n",
    "# Launch a bunch of consumers\n",
    "cons = [threading.Thread(target=consumer)\n",
    "        for i in range(10)]\n",
    "for c in cons:\n",
    "    c.setDaemon(True)\n",
    "    c.start()\n",
    "# Run the producer\n",
    "producer()\n"
   ]
  },
  {
   "cell_type": "code",
   "execution_count": 31,
   "metadata": {},
   "outputs": [
    {
     "name": "stdout",
     "output_type": "stream",
     "text": [
      "Done\n"
     ]
    }
   ],
   "source": [
    "from multiprocessing import *\n",
    "from time import *\n",
    "def hello(a):\n",
    "    for i in range(5):\n",
    "        print(\"Hello\")\n",
    "        sleep(1)\n",
    "\n",
    "def hi(a):\n",
    "    for i in range(5):\n",
    "        print(\"Hi\")\n",
    "        sleep(1)\n",
    "\n",
    "if __name__ == '__main__':\n",
    "    p1 = Process(target=hello,args=(5,))\n",
    "    p2 = Process(target=hi,args=(5,))\n",
    "\n",
    "    p1.start()\n",
    "    p2.start()\n",
    "\n",
    "    p1.join()\n",
    "    p2.join()\n",
    "    print(\"Done\")"
   ]
  },
  {
   "cell_type": "code",
   "execution_count": 26,
   "metadata": {},
   "outputs": [
    {
     "name": "stdout",
     "output_type": "stream",
     "text": [
      "Done\n"
     ]
    }
   ],
   "source": [
    "from multiprocessing import Process\n",
    "def cube(x):\n",
    "   for x in my_numbers:\n",
    "      print('%s cube is %s' % (x, x**3))\n",
    "if __name__ == '__main__':\n",
    "   my_numbers = [3, 4, 5, 6, 7, 8]\n",
    "   p = Process(target=cube, args=('x',))\n",
    "   p.start()\n",
    "   p.join\n",
    "   print (\"Done\")"
   ]
  },
  {
   "cell_type": "code",
   "execution_count": 10,
   "metadata": {},
   "outputs": [
    {
     "name": "stdout",
     "output_type": "stream",
     "text": [
      "[1, 2, 3, 4, 5, 6, 7, 8, 9]\n",
      "[2, 4, 6, 8]\n"
     ]
    }
   ],
   "source": [
    "nums = [1,2,3,4,5,6,7,8,9]\n",
    "print(nums)\n",
    "even = list(filter(lambda n : n%2==0,nums))\n",
    "print(even)"
   ]
  },
  {
   "cell_type": "code",
   "execution_count": 11,
   "metadata": {},
   "outputs": [
    {
     "name": "stdout",
     "output_type": "stream",
     "text": [
      "[1, 2, 3, 4, 5, 6, 7, 8, 9]\n",
      "[3, 4, 5, 6, 7, 8, 9, 10, 11]\n"
     ]
    }
   ],
   "source": [
    "nums = [1,2,3,4,5,6,7,8,9]\n",
    "print(nums)\n",
    "sol = list(map(lambda n : n+2,nums))\n",
    "print(sol)"
   ]
  },
  {
   "cell_type": "code",
   "execution_count": 18,
   "metadata": {},
   "outputs": [
    {
     "name": "stdout",
     "output_type": "stream",
     "text": [
      "[1, 2, 3, 4, 5, 6, 7, 8, 9]\n",
      "45\n"
     ]
    }
   ],
   "source": [
    "from functools import reduce\n",
    "nums = [1,2,3,4,5,6,7,8,9]\n",
    "print(nums)\n",
    "sum = reduce(lambda a,b : a+b ,nums)\n",
    "print(sum)"
   ]
  },
  {
   "cell_type": "code",
   "execution_count": 21,
   "metadata": {},
   "outputs": [
    {
     "name": "stdout",
     "output_type": "stream",
     "text": [
      "False\n",
      "True\n"
     ]
    }
   ],
   "source": [
    "def palindrome(str):\n",
    "    rev = str[::-1]\n",
    "    if rev == str:\n",
    "        return True\n",
    "    else:\n",
    "        return False\n",
    "\n",
    "print( palindrome(\"Prince\") )\n",
    "\n",
    "print( palindrome(\"aabaa\") )"
   ]
  },
  {
   "cell_type": "code",
   "execution_count": 24,
   "metadata": {},
   "outputs": [],
   "source": [
    "from tkinter import *\n",
    "from tkinter import messagebox\n",
    "\n",
    "\n",
    "def msg():\n",
    "    messa = messagebox.showinfo(\"Hello\",\"Prince\")\n",
    "\n",
    "root = Tk()\n",
    "label = Label(root, text=\"Hello World\",fg=\"blue\")\n",
    "label.pack()\n",
    "button = Button(root,text=\"Exit\",width=20,command=msg)\n",
    "button.pack()\n",
    "\n",
    "root.mainloop()"
   ]
  },
  {
   "cell_type": "code",
   "execution_count": 29,
   "metadata": {},
   "outputs": [
    {
     "name": "stdout",
     "output_type": "stream",
     "text": [
      "Opened database successfully\n",
      "Table created successfully\n",
      "Records inserted successfully\n",
      "\n",
      "Displaying the table \n",
      "\n",
      "(101, 'Chicken Mugali', 'Indian', 1, 'BL00001', '2022-02-14')\n",
      "(102, 'Hakka noodels', 'Chinese', 2, 'BL00002', '2022-02-14')\n",
      "(103, 'Octopus Soup', 'Chinese', 3, 'BL00003', '2022-02-14')\n",
      "(104, 'Pasta', 'Italian', 4, 'BL00004', '2022-02-14')\n",
      "\n",
      "PART A\n",
      "\n",
      "(102, 'Hakka noodels', 'Chinese', 2, 'BL00002', '2022-02-14')\n",
      "(103, 'Octopus Soup', 'Chinese', 3, 'BL00003', '2022-02-14')\n",
      "\n",
      "PART B\n",
      "\n",
      "(102, 'Hakka noodels')\n",
      "\n",
      "PART C\n",
      "\n",
      "('Pasta',)\n"
     ]
    }
   ],
   "source": [
    "import sqlite3\n",
    "conn_882=sqlite3.connect('week.db')\n",
    "print(\"Opened database successfully\")\n",
    "conn_882.execute(\"CREATE TABLE recipes(id INT PRIMARY KEY NOT NULL,name VARCHAR,description TEXT,category_id INT,chef_id text,created DATETIME);\")\n",
    "print(\"Table created successfully\")\n",
    "conn_882.execute(\"INSERT INTO recipes VALUES(101,'Chicken Mugali','Indian',01,'BL00001','2022-02-14');\")\n",
    "conn_882.execute(\"INSERT INTO recipes VALUES(102,'Hakka noodels','Chinese',02,'BL00002','2022-02-14');\")\n",
    "conn_882.execute(\"INSERT INTO recipes VALUES(103,'Octopus Soup','Chinese',03,'BL00003','2022-02-14');\")\n",
    "conn_882.execute(\"INSERT INTO recipes VALUES(104,'Pasta','Italian',04,'BL00004','2022-02-14');\")\n",
    "\n",
    "print(\"Records inserted successfully\")\n",
    "print(\"\\nDisplaying the table \\n\")\n",
    "for rows in conn_882.execute(\"SELECT * from recipes;\"):\n",
    "    print(rows)\n",
    "print(\"\\nPART A\\n\")\n",
    "for rows in conn_882.execute(\"SELECT * from recipes WHERE description='Chinese';\"):\n",
    "    print(rows)\n",
    "print(\"\\nPART B\\n\")\n",
    "for rows in conn_882.execute(\"SELECT id,name from recipes WHERE chef_id='BL00002';\"):\n",
    "    print(rows)\n",
    "print(\"\\nPART C\\n\")\n",
    "for rows in conn_882.execute(\"SELECT name from recipes WHERE name LIKE 'P%';\"):\n",
    "    print(rows)\n",
    "conn_882.commit()\n",
    "conn_882.close()"
   ]
  },
  {
   "cell_type": "code",
   "execution_count": 18,
   "metadata": {},
   "outputs": [
    {
     "name": "stdout",
     "output_type": "stream",
     "text": [
      "MainThread\n",
      "Child Thread\n",
      "0\n",
      "2\n",
      "4\n",
      "\n",
      "22\n",
      "24\n",
      "26\n",
      "286\n",
      "8\n",
      "10\n",
      "12\n",
      "14\n",
      "16\n",
      "18\n",
      "Executing thread name : MainThread\n",
      "\n",
      "30\n",
      "32\n",
      "34\n",
      "36\n",
      "38\n"
     ]
    }
   ],
   "source": [
    "from threading import Thread,current_thread\n",
    "from time import *\n",
    "print(current_thread().getName())\n",
    "def mt():\n",
    "    print(\"Child Thread\\n\")\n",
    "    for i in range(11,20):\n",
    "            print(i*2)\n",
    "def disp():\n",
    "   for i in range(10):\n",
    "            print(i*2)\t\n",
    "child=Thread(target=mt)\n",
    "child.start()\n",
    "disp()\n",
    "print(\"Executing thread name :\",current_thread().getName())"
   ]
  },
  {
   "cell_type": "code",
   "execution_count": 52,
   "metadata": {},
   "outputs": [
    {
     "name": "stdout",
     "output_type": "stream",
     "text": [
      "Produced 0\n",
      "Consumed 0\n"
     ]
    }
   ],
   "source": [
    "from threading import Thread, Lock\n",
    "import time\n",
    "import random\n",
    "\n",
    "queue = []\n",
    "lock = Lock()\n",
    "\n",
    "class ProducerThread(Thread):\n",
    "    def run(self):\n",
    "        nums = range(5) #Will create the list [0, 1, 2, 3, 4]\n",
    "        global queue\n",
    "        while True:\n",
    "            num = random.choice(nums) #Selects a random number from list [0, 1, 2, 3, 4]\n",
    "            lock.acquire()\n",
    "            queue.append(num)\n",
    "            print (\"Produced\", num)\n",
    "            lock.release()\n",
    "            time.sleep(random.random())\n",
    "\n",
    "\n",
    "class ConsumerThread(Thread):\n",
    "    def run(self):\n",
    "        global queue\n",
    "        while True:\n",
    "            lock.acquire()\n",
    "            if not queue:\n",
    "                print (\"Nothing in queue, but consumer will try to consume\")\n",
    "            num = queue.pop(0)\n",
    "            print (\"Consumed\", num)\n",
    "            lock.release()\n",
    "            time.sleep(random.random())\n",
    "\n",
    "ProducerThread().start()\n",
    "ConsumerThread().start()"
   ]
  },
  {
   "cell_type": "code",
   "execution_count": 74,
   "metadata": {},
   "outputs": [
    {
     "name": "stdout",
     "output_type": "stream",
     "text": [
      "Consumed 0\n",
      "Produced 3\n",
      "Consumed 3\n"
     ]
    }
   ],
   "source": [
    "from threading import *\n",
    "from time import *\n",
    "from random import *\n",
    "\n",
    "queue = []\n",
    "lock = Lock()\n",
    "\n",
    "class ProducerThread(Thread):\n",
    "    def run(self):\n",
    "        nums = range(5)\n",
    "        global queue\n",
    "        while True:\n",
    "            num = choice(nums)\n",
    "            lock.acquire()\n",
    "            queue.append(num)\n",
    "            print(\"Produced\",num)\n",
    "            lock.release()\n",
    "            sleep(random())\n",
    "\n",
    "class ConsumerThread(Thread):\n",
    "    def run(self):\n",
    "        global queue\n",
    "        while True:\n",
    "            lock.acquire()\n",
    "            num = queue.pop(0)\n",
    "            print(\"Consumed\",num)\n",
    "            lock.release()\n",
    "            sleep(random())\n",
    "\n",
    "ProducerThread().start()\n",
    "ConsumerThread().start()\n",
    "            "
   ]
  },
  {
   "cell_type": "code",
   "execution_count": 79,
   "metadata": {},
   "outputs": [
    {
     "name": "stdout",
     "output_type": "stream",
     "text": [
      "1\n",
      "2\n",
      "3\n",
      "4\n",
      "54\n",
      "3\n",
      "2\n",
      "\n",
      "12\n",
      "3\n",
      "4\n",
      "\n",
      "3\n",
      "2\n",
      "32\n",
      "3\n",
      "4\n",
      "5\n",
      "6\n",
      "7\n",
      "8\n",
      "9\n",
      "10\n",
      "11\n",
      "12\n",
      "13\n",
      "14\n",
      "13\n",
      "12\n",
      "11\n",
      "10\n",
      "9\n",
      "8\n",
      "7\n",
      "6\n",
      "5\n",
      "4\n",
      "\n",
      "3\n",
      "2\n",
      "1\n",
      "0\n",
      "-1\n",
      "-2\n",
      "-3\n",
      "-4\n",
      "-5\n",
      "-6\n",
      "-7\n",
      "-8\n",
      "-9\n",
      "-10\n",
      "-11\n",
      "-12\n",
      "-13\n",
      "-14\n",
      "-15\n",
      "-16\n",
      "-17-16\n",
      "-15\n",
      "-14\n",
      "-13\n",
      "-12\n",
      "\n",
      "-13\n",
      "-14\n",
      "-15\n",
      "-16-15\n",
      "-14\n",
      "-13\n",
      "-12\n",
      "-11\n",
      "\n",
      "-12\n",
      "-13\n",
      "-14\n",
      "-15\n",
      "-16-15\n",
      "-14\n",
      "-13\n",
      "-12\n",
      "-11\n",
      "-10\n",
      "-11\n",
      "-12\n",
      "-13\n",
      "-14\n",
      "-15\n",
      "-16\n",
      "-17\n",
      "-18\n",
      "-19\n",
      "-20\n",
      "-21\n",
      "-22\n",
      "-21\n",
      "-20\n",
      "-19\n",
      "-20\n",
      "-21\n",
      "-22\n",
      "-23\n",
      "-24\n",
      "-25\n",
      "\n",
      "-24\n",
      "-23\n",
      "-22\n",
      "-21\n",
      "-20\n",
      "-19\n",
      "-18\n",
      "-17\n",
      "-16\n",
      "-15\n",
      "-14\n",
      "-13\n",
      "-12\n",
      "-11\n",
      "-10\n",
      "-9\n",
      "-8\n",
      "-9-8\n",
      "-7\n",
      "-6\n",
      "\n",
      "-7\n",
      "-8\n",
      "-7-8\n",
      "-9\n",
      "-10\n",
      "-11\n",
      "-12\n",
      "-11\n",
      "-10\n",
      "\n",
      "-9\n",
      "-8\n",
      "-7\n",
      "-8\n",
      "-9\n",
      "-10\n",
      "-11\n",
      "-12\n",
      "-13\n",
      "-14\n",
      "-15\n",
      "-16\n",
      "-17\n",
      "-18\n",
      "-19\n",
      "-20\n",
      "-21\n",
      "-20-21\n",
      "\n",
      "-20\n",
      "-19\n",
      "-18\n",
      "-17\n",
      "-16\n",
      "-15\n",
      "-14\n",
      "-13-14\n",
      "-13\n",
      "-12\n",
      "-11\n",
      "-10\n",
      "-9\n",
      "-8\n",
      "-7\n",
      "-6\n",
      "-5\n",
      "\n",
      "-6\n",
      "-7\n",
      "-8\n",
      "-9\n",
      "-8-9\n",
      "-10\n",
      "\n",
      "-9\n",
      "-8\n",
      "-7\n",
      "-6\n",
      "-7\n",
      "-8\n",
      "-9\n",
      "-10\n",
      "-11\n",
      "-10\n",
      "-9\n",
      "-8\n",
      "-7\n",
      "-6\n",
      "-5\n",
      "-4\n",
      "-3\n",
      "-2\n",
      "-1\n",
      "0\n",
      "0\n"
     ]
    }
   ],
   "source": [
    "import threading\n",
    "x = 0     # A shared value\n",
    "COUNT = 100\n",
    "\n",
    "def incr():\n",
    "    global x\n",
    "    for i in range(COUNT):\n",
    "        x += 1\n",
    "        print(x)\n",
    "\n",
    "def decr():\n",
    "    global x\n",
    "    for i in range(COUNT):\n",
    "        x -= 1\n",
    "        print(x)\n",
    "t1 = threading.Thread(target=incr)\n",
    "t2 = threading.Thread(target=decr)\n",
    "t1.start()\n",
    "t2.start()\n",
    "t1.join()\n",
    "t2.join()\n",
    "print(x)\n"
   ]
  }
 ],
 "metadata": {
  "kernelspec": {
   "display_name": "Python 3.9.5 64-bit",
   "language": "python",
   "name": "python3"
  },
  "language_info": {
   "codemirror_mode": {
    "name": "ipython",
    "version": 3
   },
   "file_extension": ".py",
   "mimetype": "text/x-python",
   "name": "python",
   "nbconvert_exporter": "python",
   "pygments_lexer": "ipython3",
   "version": "3.9.5"
  },
  "orig_nbformat": 4,
  "vscode": {
   "interpreter": {
    "hash": "81794d4967e6c3204c66dcd87b604927b115b27c00565d3d43f05ba2f3a2cb0d"
   }
  }
 },
 "nbformat": 4,
 "nbformat_minor": 2
}
